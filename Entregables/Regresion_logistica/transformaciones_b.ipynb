{
 "cells": [
  {
   "cell_type": "code",
   "execution_count": 30,
   "metadata": {},
   "outputs": [
    {
     "name": "stdout",
     "output_type": "stream",
     "text": [
      "260\n",
      "211\n",
      "0.4058796784886242\n"
     ]
    }
   ],
   "source": [
    "import numpy as np\n",
    "import pandas as pd\n",
    "import scipy.stats as stats\n",
    "import matplotlib.pyplot as plt\n",
    "\n",
    "df = pd.read_csv('/Users/guillermocepeda/C:C++/Implementacion_IA_a01284015/Entregables/Regresion_logistica/mc-donalds-menu-1.csv',sep=',')\n",
    "#select \"total fat\" category\n",
    "df = df[['Total Fat']]\n",
    "df.dropna()\n",
    "# drop negative values\n",
    "print(df.shape[0])\n",
    "df = df[df['Total Fat'] > 0]\n",
    "# print size of data\n",
    "print(df.shape[0])\n",
    "\n",
    "\n",
    "#Utiliza la transformación Box-Cox. Utiliza el modelo exacto y el approximado de acuerdo con las sugerencias de Box y Cox para la transformación\n",
    "\n",
    "#Transformacion Box-Cox\n",
    "box_data, lambda_box = stats.boxcox(df['Total Fat'])\n",
    "print(lambda_box)\n",
    "#modelo exacto\n",
    "def boxcox_model(x,lamb):\n",
    "    if lamb == 0:\n",
    "        return np.log(x)\n",
    "    return (x**lamb - 1)/lamb\n",
    "\n",
    "#modelo approximado\n",
    "def boxcox_model_approx(x,lamb):\n",
    "    if lamb < -1.5:\n",
    "        return 1/x**2\n",
    "    elif lamb < -0.75:\n",
    "        return 1/x\n",
    "    elif lamb < -0.25:\n",
    "        return 1/np.sqrt(x)\n",
    "    elif lamb < 0.25:\n",
    "        return np.log(x)\n",
    "    elif lamb < 0.75:\n",
    "        return np.sqrt(x)\n",
    "    elif lamb < 1.5:\n",
    "        return x\n",
    "    else:\n",
    "        return x**2\n",
    "    \n",
    "\n",
    "#Transformacion de los datos\n",
    "box_exact = boxcox_model(df['Total Fat'],lambda_box)\n",
    "box_approx = boxcox_model_approx(df['Total Fat'],lambda_box)\n",
    "\n",
    "\n"
   ]
  },
  {
   "cell_type": "code",
   "execution_count": 31,
   "metadata": {},
   "outputs": [
    {
     "name": "stdout",
     "output_type": "stream",
     "text": [
      "Mínimo exacto:  -0.6041792251719319\n",
      "Máximo exacto:  14.618167576328764\n",
      "Media exacto:  4.806526117309361\n",
      "Mediana exacto:  5.127766820515332\n",
      "Cuartil 1 exacto:  3.2661357473373704\n",
      "Cuartil 3 exacto:  6.4091560960363285\n",
      "Sesgo exacto:  -0.006974822861329954\n",
      "Curtosis exacto:  0.5290276003922809\n",
      "Mínimo aproximado:  0.7071067811865476\n",
      "Máximo aproximado:  10.862780491200215\n",
      "Media aproximado:  3.860677145087554\n",
      "Mediana aproximado:  4.0\n",
      "Cuartil 1 aproximado:  2.8284271247461903\n",
      "Cuartil 3 aproximado:  4.847405504439537\n",
      "Sesgo aproximado:  0.30204267171505444\n",
      "Curtosis aproximado:  1.0361670488279437\n",
      "Diferencia mínimos\n",
      "Exacto: 182.75690046404932 % Aproximado: 29.289321881345252 %\n",
      "Diferencia máximos\n",
      "Exacto: -707.2147167821342 % Aproximado: -986.2780491200216 %\n",
      "Diferencia medias\n",
      "Exacto: -263.15159591993717 % Aproximado: -352.1221445706175 %\n",
      "Diferencia medianas\n",
      "Exacto: -212.02666891923968 % Aproximado: -300.0 %\n",
      "Diferencia cuartil 1\n",
      "Exacto: -144.93776801903547 % Aproximado: -182.84271247461902 %\n",
      "Diferencia cuartil 3\n",
      "Exacto: -266.66293733325233 % Aproximado: -384.79542259209234 %\n",
      "Diferencia sesgo\n",
      "Exacto: 34556.59166040848 % Aproximado: -695.6777162375685 %\n",
      "Diferencia curtosis\n",
      "Exacto: -2349.2869376802114 % Aproximado: -1150.5130256543016 %\n"
     ]
    }
   ],
   "source": [
    "#Compara las medidas: Mínimo, máximo, media, mediana, cuartil 1 y cuartil 3, sesgo y curtosis.\n",
    "\n",
    "ME_MIN = box_exact.min()\n",
    "ME_MAX = box_exact.max()\n",
    "ME_MEAN = box_exact.mean()\n",
    "ME_MEDIAN = np.median(box_exact)\n",
    "ME_Q1 = np.quantile(box_exact,0.25)\n",
    "ME_Q3 = np.quantile(box_exact,0.75)\n",
    "ME_SKEW = box_exact.skew()\n",
    "ME_KURTOSIS = box_exact.kurtosis()\n",
    "\n",
    "MA_MIN = box_approx.min()\n",
    "MA_MAX = box_approx.max()\n",
    "MA_MEAN = box_approx.mean()\n",
    "MA_MEDIAN = np.median(box_approx)\n",
    "MA_Q1 = np.quantile(box_approx,0.25)\n",
    "MA_Q3 = np.quantile(box_approx,0.75)\n",
    "MA_SKEW = box_approx.skew()\n",
    "MA_KURTOSIS = box_approx.kurtosis()\n",
    "\n",
    "print(\"Mínimo exacto: \",ME_MIN)\n",
    "print(\"Máximo exacto: \",ME_MAX)\n",
    "print(\"Media exacto: \",ME_MEAN)\n",
    "print(\"Mediana exacto: \",ME_MEDIAN)\n",
    "print(\"Cuartil 1 exacto: \",ME_Q1)\n",
    "print(\"Cuartil 3 exacto: \",ME_Q3)\n",
    "print(\"Sesgo exacto: \",ME_SKEW)\n",
    "print(\"Curtosis exacto: \",ME_KURTOSIS)\n",
    "\n",
    "print(\"Mínimo aproximado: \",MA_MIN)\n",
    "print(\"Máximo aproximado: \",MA_MAX)\n",
    "print(\"Media aproximado: \",MA_MEAN)\n",
    "print(\"Mediana aproximado: \",MA_MEDIAN)\n",
    "print(\"Cuartil 1 aproximado: \",MA_Q1)\n",
    "print(\"Cuartil 3 aproximado: \",MA_Q3)\n",
    "print(\"Sesgo aproximado: \",MA_SKEW)\n",
    "print(\"Curtosis aproximado: \",MA_KURTOSIS)\n",
    "\n",
    "REAl_min = df['Total Fat'].min()\n",
    "REAl_max = df['Total Fat'].max()\n",
    "REAl_mean = df['Total Fat'].mean()\n",
    "REAl_median = np.median(df['Total Fat'])\n",
    "REAl_q1 = np.quantile(df['Total Fat'],0.25)\n",
    "REAl_q3 = np.quantile(df['Total Fat'],0.75)\n",
    "REAl_skew = df['Total Fat'].skew()\n",
    "REAl_kurtosis = df['Total Fat'].kurtosis()\n",
    "\n",
    "#Diferencias entre los modelos en porcentaje\n",
    "def porcentaje(a,b):\n",
    "    return (a-b)/a*100\n",
    "\n",
    "print(\"Diferencia mínimos\")\n",
    "print(\"Exacto:\", porcentaje(ME_MIN,REAl_min),\"%\",\"Aproximado:\", porcentaje(MA_MIN,REAl_min),\"%\")\n",
    "print(\"Diferencia máximos\")\n",
    "print(\"Exacto:\", porcentaje(ME_MAX,REAl_max),\"%\",\"Aproximado:\", porcentaje(MA_MAX,REAl_max),\"%\")\n",
    "print(\"Diferencia medias\")\n",
    "print(\"Exacto:\", porcentaje(ME_MEAN,REAl_mean),\"%\",\"Aproximado:\", porcentaje(MA_MEAN,REAl_mean),\"%\")\n",
    "print(\"Diferencia medianas\")\n",
    "print(\"Exacto:\", porcentaje(ME_MEDIAN,REAl_median),\"%\",\"Aproximado:\", porcentaje(MA_MEDIAN,REAl_median),\"%\")\n",
    "print(\"Diferencia cuartil 1\")\n",
    "print(\"Exacto:\", porcentaje(ME_Q1,REAl_q1),\"%\",\"Aproximado:\", porcentaje(MA_Q1,REAl_q1),\"%\")\n",
    "print(\"Diferencia cuartil 3\")\n",
    "print(\"Exacto:\", porcentaje(ME_Q3,REAl_q3),\"%\",\"Aproximado:\", porcentaje(MA_Q3,REAl_q3),\"%\")\n",
    "print(\"Diferencia sesgo\")\n",
    "print(\"Exacto:\", porcentaje(ME_SKEW,REAl_skew),\"%\",\"Aproximado:\", porcentaje(MA_SKEW,REAl_skew),\"%\")\n",
    "print(\"Diferencia curtosis\")\n",
    "print(\"Exacto:\", porcentaje(ME_KURTOSIS,REAl_kurtosis),\"%\",\"Aproximado:\", porcentaje(MA_KURTOSIS,REAl_kurtosis),\"%\")\n",
    "\n",
    "\n",
    "\n",
    "#Diferencias entre los modelos en porcentaje\n",
    "\n"
   ]
  },
  {
   "cell_type": "code",
   "execution_count": 32,
   "metadata": {},
   "outputs": [
    {
     "data": {
      "image/png": "[encoded data removed]",
      "text/plain": [
       "<Figure size 640x480 with 2 Axes>"
      ]
     },
     "metadata": {},
     "output_type": "display_data"
    },
    {
     "data": {
      "image/png": "[encoded data removed]",
      "text/plain": [
       "<Figure size 640x480 with 2 Axes>"
      ]
     },
     "metadata": {},
     "output_type": "display_data"
    }
   ],
   "source": [
    "#Obten el histograma de los 2 modelos obtenidos (exacto y aproximado) y los datos originales.\n",
    "\n",
    "#Histograma exacta\n",
    "plt.subplot(2,1,1)\n",
    "plt.hist(df['Total Fat'],bins=20)\n",
    "plt.subplot(2,1,2)\n",
    "plt.hist(box_exact,bins=20)\n",
    "plt.title('Exacta')\n",
    "plt.show()\n",
    "\n",
    "#Histograma approximada\n",
    "plt.subplot(2,1,1)\n",
    "plt.hist(df['Total Fat'],bins=20)\n",
    "plt.subplot(2,1,2)\n",
    "plt.hist(box_approx,bins=20)\n",
    "plt.title('approximada')\n",
    "plt.show()"
   ]
  },
  {
   "cell_type": "code",
   "execution_count": 35,
   "metadata": {},
   "outputs": [
    {
     "name": "stdout",
     "output_type": "stream",
     "text": [
      "Prueba de normalidad Anderson AndersonResult(statistic=0.9793147801278224, critical_values=array([0.566, 0.644, 0.773, 0.901, 1.072]), significance_level=array([15. , 10. ,  5. ,  2.5,  1. ]), fit_result=  params: FitParams(loc=4.806526117309361, scale=2.5194209383853305)\n",
      " success: True\n",
      " message: '`anderson` successfully fit the distribution to the data.')\n",
      "Prueba de normalidad Anderson AndersonResult(statistic=0.6695914567639534, critical_values=array([0.566, 0.644, 0.773, 0.901, 1.072]), significance_level=array([15. , 10. ,  5. ,  2.5,  1. ]), fit_result=  params: FitParams(loc=3.860677145087554, scale=1.6007160422688034)\n",
      " success: True\n",
      " message: '`anderson` successfully fit the distribution to the data.')\n"
     ]
    }
   ],
   "source": [
    "#Realiza la prueba de normalidad de Anderson-Darling o de Jarque Bera para los datos transformados y los originales\n",
    "\n",
    "#Realiza la pruena para box_exact y box_approx\n",
    "\n",
    "prueba_exacta = stats.anderson(box_exact)\n",
    "prueba_approx = stats.anderson(box_approx)\n",
    "print(\"Prueba de normalidad Anderson\",prueba_exacta)\n",
    "print(\"Prueba de normalidad Anderson\",prueba_approx)\n",
    "\n",
    "\n"
   ]
  },
  {
   "cell_type": "code",
   "execution_count": 36,
   "metadata": {},
   "outputs": [],
   "source": [
    "#Detecta anomalías y corrige tu base de datos (datos atípicos, ceros anámalos, etc).\n",
    "\n",
    "#Rango intercuartilico\n",
    "ME_IQR = ME_Q3 - ME_Q1\n",
    "MA_IQR = MA_Q3 - MA_Q1\n",
    "\n",
    "#Obtener los limites\n",
    "ME_LI = ME_Q1 - 1.5*ME_IQR\n",
    "ME_LS = ME_Q3 + 1.5*ME_IQR\n",
    "MA_LI = MA_Q1 - 1.5*MA_IQR\n",
    "MA_LS = MA_Q3 + 1.5*MA_IQR\n",
    "\n",
    "#Obtener los datos que estan dentro de los limites\n",
    "box_exact = box_exact[box_exact > ME_LI]\n",
    "box_exact = box_exact[box_exact < ME_LS]\n",
    "box_approx = box_approx[box_approx > MA_LI]\n",
    "box_approx = box_approx[box_approx < MA_LS]\n",
    "\n"
   ]
  },
  {
   "cell_type": "code",
   "execution_count": null,
   "metadata": {},
   "outputs": [],
   "source": []
  }
 ],
 "metadata": {
  "kernelspec": {
   "display_name": "Python 3",
   "language": "python",
   "name": "python3"
  },
  "language_info": {
   "codemirror_mode": {
    "name": "ipython",
    "version": 3
   },
   "file_extension": ".py",
   "mimetype": "text/x-python",
   "name": "python",
   "nbconvert_exporter": "python",
   "pygments_lexer": "ipython3",
   "version": "3.11.4"
  },
  "orig_nbformat": 4
 },
 "nbformat": 4,
 "nbformat_minor": 2
}
